{
 "cells": [
  {
   "cell_type": "code",
   "execution_count": 1,
   "id": "29117653",
   "metadata": {},
   "outputs": [],
   "source": [
    "import numpy as np\n",
    "import pandas as pd\n",
    "import matplotlib.pyplot as plt\n",
    "import seaborn as sns\n",
    "%matplotlib inline\n",
    "import warnings\n",
    "warnings.filterwarnings('ignore')"
   ]
  },
  {
   "cell_type": "code",
   "execution_count": 2,
   "id": "6440e470",
   "metadata": {},
   "outputs": [
    {
     "data": {
      "text/html": [
       "<div>\n",
       "<style scoped>\n",
       "    .dataframe tbody tr th:only-of-type {\n",
       "        vertical-align: middle;\n",
       "    }\n",
       "\n",
       "    .dataframe tbody tr th {\n",
       "        vertical-align: top;\n",
       "    }\n",
       "\n",
       "    .dataframe thead th {\n",
       "        text-align: right;\n",
       "    }\n",
       "</style>\n",
       "<table border=\"1\" class=\"dataframe\">\n",
       "  <thead>\n",
       "    <tr style=\"text-align: right;\">\n",
       "      <th></th>\n",
       "      <th>price</th>\n",
       "      <th>feature1</th>\n",
       "      <th>feature2</th>\n",
       "    </tr>\n",
       "  </thead>\n",
       "  <tbody>\n",
       "    <tr>\n",
       "      <th>0</th>\n",
       "      <td>461.527929</td>\n",
       "      <td>999.787558</td>\n",
       "      <td>999.766096</td>\n",
       "    </tr>\n",
       "    <tr>\n",
       "      <th>1</th>\n",
       "      <td>548.130011</td>\n",
       "      <td>998.861615</td>\n",
       "      <td>1001.042403</td>\n",
       "    </tr>\n",
       "    <tr>\n",
       "      <th>2</th>\n",
       "      <td>410.297162</td>\n",
       "      <td>1000.070267</td>\n",
       "      <td>998.844015</td>\n",
       "    </tr>\n",
       "    <tr>\n",
       "      <th>3</th>\n",
       "      <td>540.382220</td>\n",
       "      <td>999.952251</td>\n",
       "      <td>1000.440940</td>\n",
       "    </tr>\n",
       "    <tr>\n",
       "      <th>4</th>\n",
       "      <td>546.024553</td>\n",
       "      <td>1000.446011</td>\n",
       "      <td>1000.338531</td>\n",
       "    </tr>\n",
       "  </tbody>\n",
       "</table>\n",
       "</div>"
      ],
      "text/plain": [
       "        price     feature1     feature2\n",
       "0  461.527929   999.787558   999.766096\n",
       "1  548.130011   998.861615  1001.042403\n",
       "2  410.297162  1000.070267   998.844015\n",
       "3  540.382220   999.952251  1000.440940\n",
       "4  546.024553  1000.446011  1000.338531"
      ]
     },
     "execution_count": 2,
     "metadata": {},
     "output_type": "execute_result"
    }
   ],
   "source": [
    "df = pd.read_csv('fake_reg-Copy1.csv')\n",
    "df.head()"
   ]
  },
  {
   "cell_type": "code",
   "execution_count": 3,
   "id": "0d6a9c9f",
   "metadata": {},
   "outputs": [
    {
     "name": "stdout",
     "output_type": "stream",
     "text": [
      "<class 'pandas.core.frame.DataFrame'>\n",
      "RangeIndex: 1000 entries, 0 to 999\n",
      "Data columns (total 3 columns):\n",
      " #   Column    Non-Null Count  Dtype  \n",
      "---  ------    --------------  -----  \n",
      " 0   price     1000 non-null   float64\n",
      " 1   feature1  1000 non-null   float64\n",
      " 2   feature2  1000 non-null   float64\n",
      "dtypes: float64(3)\n",
      "memory usage: 23.6 KB\n"
     ]
    }
   ],
   "source": [
    "df.info()"
   ]
  },
  {
   "cell_type": "code",
   "execution_count": 4,
   "id": "a531b13d",
   "metadata": {},
   "outputs": [
    {
     "data": {
      "text/html": [
       "<div>\n",
       "<style scoped>\n",
       "    .dataframe tbody tr th:only-of-type {\n",
       "        vertical-align: middle;\n",
       "    }\n",
       "\n",
       "    .dataframe tbody tr th {\n",
       "        vertical-align: top;\n",
       "    }\n",
       "\n",
       "    .dataframe thead th {\n",
       "        text-align: right;\n",
       "    }\n",
       "</style>\n",
       "<table border=\"1\" class=\"dataframe\">\n",
       "  <thead>\n",
       "    <tr style=\"text-align: right;\">\n",
       "      <th></th>\n",
       "      <th>price</th>\n",
       "      <th>feature1</th>\n",
       "      <th>feature2</th>\n",
       "    </tr>\n",
       "  </thead>\n",
       "  <tbody>\n",
       "    <tr>\n",
       "      <th>count</th>\n",
       "      <td>1000.000000</td>\n",
       "      <td>1000.000000</td>\n",
       "      <td>1000.000000</td>\n",
       "    </tr>\n",
       "    <tr>\n",
       "      <th>mean</th>\n",
       "      <td>498.673029</td>\n",
       "      <td>1000.014171</td>\n",
       "      <td>999.979847</td>\n",
       "    </tr>\n",
       "    <tr>\n",
       "      <th>std</th>\n",
       "      <td>93.785431</td>\n",
       "      <td>0.974018</td>\n",
       "      <td>0.948330</td>\n",
       "    </tr>\n",
       "    <tr>\n",
       "      <th>min</th>\n",
       "      <td>223.346793</td>\n",
       "      <td>997.058347</td>\n",
       "      <td>996.995651</td>\n",
       "    </tr>\n",
       "    <tr>\n",
       "      <th>25%</th>\n",
       "      <td>433.025732</td>\n",
       "      <td>999.332068</td>\n",
       "      <td>999.316106</td>\n",
       "    </tr>\n",
       "    <tr>\n",
       "      <th>50%</th>\n",
       "      <td>502.382117</td>\n",
       "      <td>1000.009915</td>\n",
       "      <td>1000.002243</td>\n",
       "    </tr>\n",
       "    <tr>\n",
       "      <th>75%</th>\n",
       "      <td>564.921588</td>\n",
       "      <td>1000.637580</td>\n",
       "      <td>1000.645380</td>\n",
       "    </tr>\n",
       "    <tr>\n",
       "      <th>max</th>\n",
       "      <td>774.407854</td>\n",
       "      <td>1003.207934</td>\n",
       "      <td>1002.666308</td>\n",
       "    </tr>\n",
       "  </tbody>\n",
       "</table>\n",
       "</div>"
      ],
      "text/plain": [
       "             price     feature1     feature2\n",
       "count  1000.000000  1000.000000  1000.000000\n",
       "mean    498.673029  1000.014171   999.979847\n",
       "std      93.785431     0.974018     0.948330\n",
       "min     223.346793   997.058347   996.995651\n",
       "25%     433.025732   999.332068   999.316106\n",
       "50%     502.382117  1000.009915  1000.002243\n",
       "75%     564.921588  1000.637580  1000.645380\n",
       "max     774.407854  1003.207934  1002.666308"
      ]
     },
     "execution_count": 4,
     "metadata": {},
     "output_type": "execute_result"
    }
   ],
   "source": [
    "df.describe()"
   ]
  },
  {
   "cell_type": "code",
   "execution_count": 5,
   "id": "92f6703c",
   "metadata": {},
   "outputs": [
    {
     "data": {
      "text/plain": [
       "<seaborn.axisgrid.PairGrid at 0x174167bc430>"
      ]
     },
     "execution_count": 5,
     "metadata": {},
     "output_type": "execute_result"
    },
    {
     "data": {
      "image/png": "[encoded data removed]",
      "text/plain": [
       "<Figure size 750x750 with 12 Axes>"
      ]
     },
     "metadata": {},
     "output_type": "display_data"
    }
   ],
   "source": [
    "sns.pairplot(df)"
   ]
  },
  {
   "cell_type": "code",
   "execution_count": 6,
   "id": "e4c1072b",
   "metadata": {},
   "outputs": [],
   "source": [
    "X = df[['feature1','feature2']].values\n",
    "y = df['price'].values"
   ]
  },
  {
   "cell_type": "markdown",
   "id": "99fdf91e",
   "metadata": {},
   "source": [
    "# Train Test and Split"
   ]
  },
  {
   "cell_type": "code",
   "execution_count": 8,
   "id": "0e0fe0b7",
   "metadata": {},
   "outputs": [],
   "source": [
    "from sklearn.model_selection import train_test_split"
   ]
  },
  {
   "cell_type": "code",
   "execution_count": 9,
   "id": "ae773ea9",
   "metadata": {},
   "outputs": [],
   "source": [
    "X_train, X_test, y_train, y_test = train_test_split(X, y, test_size=0.3, random_state=101)"
   ]
  },
  {
   "cell_type": "code",
   "execution_count": 10,
   "id": "8dcfca66",
   "metadata": {},
   "outputs": [
    {
     "data": {
      "text/plain": [
       "((700, 2), (300, 2), (700,), (300,))"
      ]
     },
     "execution_count": 10,
     "metadata": {},
     "output_type": "execute_result"
    }
   ],
   "source": [
    "X_train.shape, X_test.shape, y_train.shape, y_test.shape"
   ]
  },
  {
   "cell_type": "markdown",
   "id": "a951ee2d",
   "metadata": {},
   "source": [
    "# Scaling and Transform"
   ]
  },
  {
   "cell_type": "code",
   "execution_count": 11,
   "id": "9579e5a0",
   "metadata": {},
   "outputs": [],
   "source": [
    "from sklearn.preprocessing import MinMaxScaler"
   ]
  },
  {
   "cell_type": "code",
   "execution_count": 12,
   "id": "9a911952",
   "metadata": {},
   "outputs": [],
   "source": [
    "scaler = MinMaxScaler()"
   ]
  },
  {
   "cell_type": "code",
   "execution_count": 13,
   "id": "ccdab988",
   "metadata": {},
   "outputs": [
    {
     "data": {
      "text/html": [
       "<style>#sk-container-id-1 {color: black;}#sk-container-id-1 pre{padding: 0;}#sk-container-id-1 div.sk-toggleable {background-color: white;}#sk-container-id-1 label.sk-toggleable__label {cursor: pointer;display: block;width: 100%;margin-bottom: 0;padding: 0.3em;box-sizing: border-box;text-align: center;}#sk-container-id-1 label.sk-toggleable__label-arrow:before {content: \"▸\";float: left;margin-right: 0.25em;color: #696969;}#sk-container-id-1 label.sk-toggleable__label-arrow:hover:before {color: black;}#sk-container-id-1 div.sk-estimator:hover label.sk-toggleable__label-arrow:before {color: black;}#sk-container-id-1 div.sk-toggleable__content {max-height: 0;max-width: 0;overflow: hidden;text-align: left;background-color: #f0f8ff;}#sk-container-id-1 div.sk-toggleable__content pre {margin: 0.2em;color: black;border-radius: 0.25em;background-color: #f0f8ff;}#sk-container-id-1 input.sk-toggleable__control:checked~div.sk-toggleable__content {max-height: 200px;max-width: 100%;overflow: auto;}#sk-container-id-1 input.sk-toggleable__control:checked~label.sk-toggleable__label-arrow:before {content: \"▾\";}#sk-container-id-1 div.sk-estimator input.sk-toggleable__control:checked~label.sk-toggleable__label {background-color: #d4ebff;}#sk-container-id-1 div.sk-label input.sk-toggleable__control:checked~label.sk-toggleable__label {background-color: #d4ebff;}#sk-container-id-1 input.sk-hidden--visually {border: 0;clip: rect(1px 1px 1px 1px);clip: rect(1px, 1px, 1px, 1px);height: 1px;margin: -1px;overflow: hidden;padding: 0;position: absolute;width: 1px;}#sk-container-id-1 div.sk-estimator {font-family: monospace;background-color: #f0f8ff;border: 1px dotted black;border-radius: 0.25em;box-sizing: border-box;margin-bottom: 0.5em;}#sk-container-id-1 div.sk-estimator:hover {background-color: #d4ebff;}#sk-container-id-1 div.sk-parallel-item::after {content: \"\";width: 100%;border-bottom: 1px solid gray;flex-grow: 1;}#sk-container-id-1 div.sk-label:hover label.sk-toggleable__label {background-color: #d4ebff;}#sk-container-id-1 div.sk-serial::before {content: \"\";position: absolute;border-left: 1px solid gray;box-sizing: border-box;top: 0;bottom: 0;left: 50%;z-index: 0;}#sk-container-id-1 div.sk-serial {display: flex;flex-direction: column;align-items: center;background-color: white;padding-right: 0.2em;padding-left: 0.2em;position: relative;}#sk-container-id-1 div.sk-item {position: relative;z-index: 1;}#sk-container-id-1 div.sk-parallel {display: flex;align-items: stretch;justify-content: center;background-color: white;position: relative;}#sk-container-id-1 div.sk-item::before, #sk-container-id-1 div.sk-parallel-item::before {content: \"\";position: absolute;border-left: 1px solid gray;box-sizing: border-box;top: 0;bottom: 0;left: 50%;z-index: -1;}#sk-container-id-1 div.sk-parallel-item {display: flex;flex-direction: column;z-index: 1;position: relative;background-color: white;}#sk-container-id-1 div.sk-parallel-item:first-child::after {align-self: flex-end;width: 50%;}#sk-container-id-1 div.sk-parallel-item:last-child::after {align-self: flex-start;width: 50%;}#sk-container-id-1 div.sk-parallel-item:only-child::after {width: 0;}#sk-container-id-1 div.sk-dashed-wrapped {border: 1px dashed gray;margin: 0 0.4em 0.5em 0.4em;box-sizing: border-box;padding-bottom: 0.4em;background-color: white;}#sk-container-id-1 div.sk-label label {font-family: monospace;font-weight: bold;display: inline-block;line-height: 1.2em;}#sk-container-id-1 div.sk-label-container {text-align: center;}#sk-container-id-1 div.sk-container {/* jupyter's `normalize.less` sets `[hidden] { display: none; }` but bootstrap.min.css set `[hidden] { display: none !important; }` so we also need the `!important` here to be able to override the default hidden behavior on the sphinx rendered scikit-learn.org. See: https://github.com/scikit-learn/scikit-learn/issues/21755 */display: inline-block !important;position: relative;}#sk-container-id-1 div.sk-text-repr-fallback {display: none;}</style><div id=\"sk-container-id-1\" class=\"sk-top-container\"><div class=\"sk-text-repr-fallback\"><pre>MinMaxScaler()</pre><b>In a Jupyter environment, please rerun this cell to show the HTML representation or trust the notebook. <br />On GitHub, the HTML representation is unable to render, please try loading this page with nbviewer.org.</b></div><div class=\"sk-container\" hidden><div class=\"sk-item\"><div class=\"sk-estimator sk-toggleable\"><input class=\"sk-toggleable__control sk-hidden--visually\" id=\"sk-estimator-id-1\" type=\"checkbox\" checked><label for=\"sk-estimator-id-1\" class=\"sk-toggleable__label sk-toggleable__label-arrow\">MinMaxScaler</label><div class=\"sk-toggleable__content\"><pre>MinMaxScaler()</pre></div></div></div></div></div>"
      ],
      "text/plain": [
       "MinMaxScaler()"
      ]
     },
     "execution_count": 13,
     "metadata": {},
     "output_type": "execute_result"
    }
   ],
   "source": [
    "scaler.fit(X_train)"
   ]
  },
  {
   "cell_type": "code",
   "execution_count": 14,
   "id": "b78947f6",
   "metadata": {},
   "outputs": [],
   "source": [
    "X_train = scaler.transform(X_train)"
   ]
  },
  {
   "cell_type": "code",
   "execution_count": 15,
   "id": "be72e815",
   "metadata": {},
   "outputs": [],
   "source": [
    "X_test = scaler.transform(X_test)"
   ]
  },
  {
   "cell_type": "markdown",
   "id": "a2a861db",
   "metadata": {},
   "source": [
    "# Tensorflow"
   ]
  },
  {
   "cell_type": "code",
   "execution_count": 16,
   "id": "6894b24c",
   "metadata": {},
   "outputs": [],
   "source": [
    "import tensorflow as tf"
   ]
  },
  {
   "cell_type": "code",
   "execution_count": 17,
   "id": "4ab33e6e",
   "metadata": {},
   "outputs": [],
   "source": [
    "from tensorflow.keras.models import Sequential"
   ]
  },
  {
   "cell_type": "code",
   "execution_count": 18,
   "id": "9d55519f",
   "metadata": {},
   "outputs": [],
   "source": [
    "from tensorflow.keras.layers import Dense, Activation"
   ]
  },
  {
   "cell_type": "code",
   "execution_count": 19,
   "id": "1ad65732",
   "metadata": {},
   "outputs": [],
   "source": [
    "# first way to write code in tensorflow (List method)\n",
    "model = Sequential([\n",
    "    Dense(units=2),\n",
    "    Dense(units=2),\n",
    "    Dense(units=2)\n",
    "])"
   ]
  },
  {
   "cell_type": "code",
   "execution_count": 20,
   "id": "e89159c2",
   "metadata": {},
   "outputs": [],
   "source": [
    "# one by one method\n",
    "model = Sequential()\n",
    "model.add(Dense(units=2))\n",
    "model.add(Dense(units=2))\n",
    "model.add(Dense(units=2))"
   ]
  },
  {
   "cell_type": "code",
   "execution_count": 21,
   "id": "9944c2f6",
   "metadata": {},
   "outputs": [],
   "source": [
    "# lets make a simple neuron network\n",
    "model = Sequential()\n",
    "\n",
    "model.add(Dense(units=4))\n",
    "model.add(Dense(units=4))\n",
    "model.add(Dense(units=4))\n",
    "\n",
    "# output layer\n",
    "model.add(Dense(units=1))\n",
    "\n",
    "#compilation\n",
    "model.compile(optimizer='rmsprop',loss='mse')"
   ]
  },
  {
   "cell_type": "code",
   "execution_count": 22,
   "id": "5e914a0a",
   "metadata": {},
   "outputs": [
    {
     "name": "stdout",
     "output_type": "stream",
     "text": [
      "Epoch 1/200\n",
      "22/22 [==============================] - 1s 2ms/step - loss: 259551.2656\n",
      "Epoch 2/200\n",
      "22/22 [==============================] - 0s 1ms/step - loss: 259185.3906\n",
      "Epoch 3/200\n",
      "22/22 [==============================] - 0s 2ms/step - loss: 258840.4844\n",
      "Epoch 4/200\n",
      "22/22 [==============================] - 0s 1ms/step - loss: 258460.2500\n",
      "Epoch 5/200\n",
      "22/22 [==============================] - 0s 2ms/step - loss: 258039.8594\n",
      "Epoch 6/200\n",
      "22/22 [==============================] - 0s 2ms/step - loss: 257562.0156\n",
      "Epoch 7/200\n",
      "22/22 [==============================] - 0s 2ms/step - loss: 257006.6094\n",
      "Epoch 8/200\n",
      "22/22 [==============================] - 0s 2ms/step - loss: 256357.7344\n",
      "Epoch 9/200\n",
      "22/22 [==============================] - 0s 2ms/step - loss: 255607.1719\n",
      "Epoch 10/200\n",
      "22/22 [==============================] - 0s 2ms/step - loss: 254751.9062\n",
      "Epoch 11/200\n",
      "22/22 [==============================] - 0s 2ms/step - loss: 253757.2188\n",
      "Epoch 12/200\n",
      "22/22 [==============================] - 0s 2ms/step - loss: 252600.8906\n",
      "Epoch 13/200\n",
      "22/22 [==============================] - 0s 2ms/step - loss: 251273.2344\n",
      "Epoch 14/200\n",
      "22/22 [==============================] - 0s 2ms/step - loss: 249761.2812\n",
      "Epoch 15/200\n",
      "22/22 [==============================] - 0s 2ms/step - loss: 248040.3594\n",
      "Epoch 16/200\n",
      "22/22 [==============================] - 0s 2ms/step - loss: 246102.8594\n",
      "Epoch 17/200\n",
      "22/22 [==============================] - 0s 2ms/step - loss: 243944.5000\n",
      "Epoch 18/200\n",
      "22/22 [==============================] - 0s 2ms/step - loss: 241530.5156\n",
      "Epoch 19/200\n",
      "22/22 [==============================] - 0s 2ms/step - loss: 238842.8594\n",
      "Epoch 20/200\n",
      "22/22 [==============================] - 0s 2ms/step - loss: 235882.9219\n",
      "Epoch 21/200\n",
      "22/22 [==============================] - 0s 2ms/step - loss: 232611.0156\n",
      "Epoch 22/200\n",
      "22/22 [==============================] - 0s 2ms/step - loss: 229040.2031\n",
      "Epoch 23/200\n",
      "22/22 [==============================] - 0s 2ms/step - loss: 225143.4219\n",
      "Epoch 24/200\n",
      "22/22 [==============================] - 0s 2ms/step - loss: 220914.8281\n",
      "Epoch 25/200\n",
      "22/22 [==============================] - 0s 2ms/step - loss: 216308.5000\n",
      "Epoch 26/200\n",
      "22/22 [==============================] - 0s 2ms/step - loss: 211380.5469\n",
      "Epoch 27/200\n",
      "22/22 [==============================] - 0s 2ms/step - loss: 206052.0625\n",
      "Epoch 28/200\n",
      "22/22 [==============================] - 0s 2ms/step - loss: 200355.1250\n",
      "Epoch 29/200\n",
      "22/22 [==============================] - 0s 2ms/step - loss: 194295.4531\n",
      "Epoch 30/200\n",
      "22/22 [==============================] - 0s 3ms/step - loss: 187854.9531\n",
      "Epoch 31/200\n",
      "22/22 [==============================] - 0s 2ms/step - loss: 181020.3594\n",
      "Epoch 32/200\n",
      "22/22 [==============================] - 0s 2ms/step - loss: 173820.8281\n",
      "Epoch 33/200\n",
      "22/22 [==============================] - 0s 2ms/step - loss: 166242.6094\n",
      "Epoch 34/200\n",
      "22/22 [==============================] - 0s 2ms/step - loss: 158296.3750\n",
      "Epoch 35/200\n",
      "22/22 [==============================] - 0s 2ms/step - loss: 150045.1094\n",
      "Epoch 36/200\n",
      "22/22 [==============================] - 0s 2ms/step - loss: 141477.6719\n",
      "Epoch 37/200\n",
      "22/22 [==============================] - 0s 2ms/step - loss: 132626.2031\n",
      "Epoch 38/200\n",
      "22/22 [==============================] - 0s 2ms/step - loss: 123482.8672\n",
      "Epoch 39/200\n",
      "22/22 [==============================] - 0s 2ms/step - loss: 114133.6016\n",
      "Epoch 40/200\n",
      "22/22 [==============================] - 0s 2ms/step - loss: 104648.7969\n",
      "Epoch 41/200\n",
      "22/22 [==============================] - 0s 2ms/step - loss: 95073.7266\n",
      "Epoch 42/200\n",
      "22/22 [==============================] - 0s 2ms/step - loss: 85502.4609\n",
      "Epoch 43/200\n",
      "22/22 [==============================] - 0s 2ms/step - loss: 75910.8750\n",
      "Epoch 44/200\n",
      "22/22 [==============================] - 0s 2ms/step - loss: 66427.6953\n",
      "Epoch 45/200\n",
      "22/22 [==============================] - 0s 2ms/step - loss: 57172.4414\n",
      "Epoch 46/200\n",
      "22/22 [==============================] - 0s 2ms/step - loss: 48171.1094\n",
      "Epoch 47/200\n",
      "22/22 [==============================] - 0s 1ms/step - loss: 39687.4531\n",
      "Epoch 48/200\n",
      "22/22 [==============================] - 0s 2ms/step - loss: 31711.1562\n",
      "Epoch 49/200\n",
      "22/22 [==============================] - 0s 2ms/step - loss: 24434.3750\n",
      "Epoch 50/200\n",
      "22/22 [==============================] - 0s 2ms/step - loss: 18021.2871\n",
      "Epoch 51/200\n",
      "22/22 [==============================] - 0s 2ms/step - loss: 12488.3213\n",
      "Epoch 52/200\n",
      "22/22 [==============================] - 0s 1ms/step - loss: 8175.0791\n",
      "Epoch 53/200\n",
      "22/22 [==============================] - 0s 2ms/step - loss: 5056.0698\n",
      "Epoch 54/200\n",
      "22/22 [==============================] - 0s 1ms/step - loss: 3231.4600\n",
      "Epoch 55/200\n",
      "22/22 [==============================] - 0s 1ms/step - loss: 2499.6833\n",
      "Epoch 56/200\n",
      "22/22 [==============================] - 0s 2ms/step - loss: 2383.4700\n",
      "Epoch 57/200\n",
      "22/22 [==============================] - 0s 2ms/step - loss: 2341.7903\n",
      "Epoch 58/200\n",
      "22/22 [==============================] - 0s 2ms/step - loss: 2280.1316\n",
      "Epoch 59/200\n",
      "22/22 [==============================] - 0s 2ms/step - loss: 2222.4585\n",
      "Epoch 60/200\n",
      "22/22 [==============================] - 0s 2ms/step - loss: 2165.9617\n",
      "Epoch 61/200\n",
      "22/22 [==============================] - 0s 2ms/step - loss: 2112.5408\n",
      "Epoch 62/200\n",
      "22/22 [==============================] - 0s 2ms/step - loss: 2061.1606\n",
      "Epoch 63/200\n",
      "22/22 [==============================] - 0s 2ms/step - loss: 1998.7299\n",
      "Epoch 64/200\n",
      "22/22 [==============================] - 0s 2ms/step - loss: 1945.1312\n",
      "Epoch 65/200\n",
      "22/22 [==============================] - 0s 2ms/step - loss: 1883.9366\n",
      "Epoch 66/200\n",
      "22/22 [==============================] - 0s 2ms/step - loss: 1829.3818\n",
      "Epoch 67/200\n",
      "22/22 [==============================] - 0s 2ms/step - loss: 1783.3390\n",
      "Epoch 68/200\n",
      "22/22 [==============================] - 0s 3ms/step - loss: 1723.6315\n",
      "Epoch 69/200\n",
      "22/22 [==============================] - 0s 2ms/step - loss: 1673.0879\n",
      "Epoch 70/200\n",
      "22/22 [==============================] - 0s 2ms/step - loss: 1616.8287\n",
      "Epoch 71/200\n",
      "22/22 [==============================] - 0s 2ms/step - loss: 1565.6049\n",
      "Epoch 72/200\n",
      "22/22 [==============================] - 0s 2ms/step - loss: 1518.3466\n",
      "Epoch 73/200\n",
      "22/22 [==============================] - 0s 2ms/step - loss: 1470.9650\n",
      "Epoch 74/200\n",
      "22/22 [==============================] - 0s 2ms/step - loss: 1423.1189\n",
      "Epoch 75/200\n",
      "22/22 [==============================] - 0s 2ms/step - loss: 1371.1505\n",
      "Epoch 76/200\n",
      "22/22 [==============================] - 0s 2ms/step - loss: 1326.4926\n",
      "Epoch 77/200\n",
      "22/22 [==============================] - 0s 2ms/step - loss: 1285.1957\n",
      "Epoch 78/200\n",
      "22/22 [==============================] - 0s 2ms/step - loss: 1232.7440\n",
      "Epoch 79/200\n",
      "22/22 [==============================] - 0s 2ms/step - loss: 1198.6263\n",
      "Epoch 80/200\n",
      "22/22 [==============================] - 0s 2ms/step - loss: 1150.5836\n",
      "Epoch 81/200\n",
      "22/22 [==============================] - 0s 2ms/step - loss: 1104.1573\n",
      "Epoch 82/200\n",
      "22/22 [==============================] - 0s 2ms/step - loss: 1059.5155\n",
      "Epoch 83/200\n",
      "22/22 [==============================] - 0s 2ms/step - loss: 1009.9738\n",
      "Epoch 84/200\n",
      "22/22 [==============================] - 0s 2ms/step - loss: 963.0918\n",
      "Epoch 85/200\n",
      "22/22 [==============================] - 0s 2ms/step - loss: 916.9382\n",
      "Epoch 86/200\n",
      "22/22 [==============================] - 0s 2ms/step - loss: 874.8370\n",
      "Epoch 87/200\n",
      "22/22 [==============================] - 0s 2ms/step - loss: 832.1753\n",
      "Epoch 88/200\n",
      "22/22 [==============================] - 0s 2ms/step - loss: 789.5278\n",
      "Epoch 89/200\n",
      "22/22 [==============================] - 0s 2ms/step - loss: 751.3950\n",
      "Epoch 90/200\n",
      "22/22 [==============================] - 0s 2ms/step - loss: 715.6448\n",
      "Epoch 91/200\n",
      "22/22 [==============================] - 0s 2ms/step - loss: 678.4479\n",
      "Epoch 92/200\n",
      "22/22 [==============================] - 0s 2ms/step - loss: 643.8995\n",
      "Epoch 93/200\n",
      "22/22 [==============================] - 0s 2ms/step - loss: 609.0938\n",
      "Epoch 94/200\n",
      "22/22 [==============================] - 0s 2ms/step - loss: 574.4633\n",
      "Epoch 95/200\n",
      "22/22 [==============================] - 0s 2ms/step - loss: 547.1816\n",
      "Epoch 96/200\n",
      "22/22 [==============================] - 0s 2ms/step - loss: 515.4831\n",
      "Epoch 97/200\n",
      "22/22 [==============================] - 0s 2ms/step - loss: 486.6300\n",
      "Epoch 98/200\n",
      "22/22 [==============================] - 0s 2ms/step - loss: 454.3328\n",
      "Epoch 99/200\n",
      "22/22 [==============================] - 0s 2ms/step - loss: 427.3900\n",
      "Epoch 100/200\n",
      "22/22 [==============================] - 0s 2ms/step - loss: 394.8835\n",
      "Epoch 101/200\n",
      "22/22 [==============================] - 0s 2ms/step - loss: 368.9778\n",
      "Epoch 102/200\n",
      "22/22 [==============================] - 0s 2ms/step - loss: 340.4827\n",
      "Epoch 103/200\n",
      "22/22 [==============================] - 0s 2ms/step - loss: 317.7343\n",
      "Epoch 104/200\n",
      "22/22 [==============================] - 0s 2ms/step - loss: 293.5433\n",
      "Epoch 105/200\n",
      "22/22 [==============================] - 0s 2ms/step - loss: 273.2257\n",
      "Epoch 106/200\n",
      "22/22 [==============================] - 0s 2ms/step - loss: 250.9537\n",
      "Epoch 107/200\n",
      "22/22 [==============================] - 0s 2ms/step - loss: 231.2142\n",
      "Epoch 108/200\n",
      "22/22 [==============================] - 0s 2ms/step - loss: 213.7300\n",
      "Epoch 109/200\n",
      "22/22 [==============================] - 0s 2ms/step - loss: 194.7262\n",
      "Epoch 110/200\n",
      "22/22 [==============================] - 0s 2ms/step - loss: 177.7016\n",
      "Epoch 111/200\n",
      "22/22 [==============================] - 0s 2ms/step - loss: 162.1260\n",
      "Epoch 112/200\n",
      "22/22 [==============================] - 0s 2ms/step - loss: 145.4516\n",
      "Epoch 113/200\n",
      "22/22 [==============================] - 0s 1ms/step - loss: 131.8328\n",
      "Epoch 114/200\n",
      "22/22 [==============================] - 0s 2ms/step - loss: 118.6647\n",
      "Epoch 115/200\n",
      "22/22 [==============================] - 0s 2ms/step - loss: 106.0125\n",
      "Epoch 116/200\n",
      "22/22 [==============================] - 0s 2ms/step - loss: 95.4114\n",
      "Epoch 117/200\n",
      "22/22 [==============================] - 0s 2ms/step - loss: 85.4339\n",
      "Epoch 118/200\n",
      "22/22 [==============================] - 0s 2ms/step - loss: 76.1367\n",
      "Epoch 119/200\n",
      "22/22 [==============================] - 0s 2ms/step - loss: 68.0884\n",
      "Epoch 120/200\n",
      "22/22 [==============================] - 0s 2ms/step - loss: 60.5438\n",
      "Epoch 121/200\n",
      "22/22 [==============================] - 0s 2ms/step - loss: 54.2104\n",
      "Epoch 122/200\n",
      "22/22 [==============================] - 0s 2ms/step - loss: 48.8121\n",
      "Epoch 123/200\n",
      "22/22 [==============================] - 0s 2ms/step - loss: 44.4350\n",
      "Epoch 124/200\n",
      "22/22 [==============================] - 0s 2ms/step - loss: 41.1795\n",
      "Epoch 125/200\n",
      "22/22 [==============================] - 0s 2ms/step - loss: 37.3233\n",
      "Epoch 126/200\n",
      "22/22 [==============================] - 0s 2ms/step - loss: 34.8671\n",
      "Epoch 127/200\n",
      "22/22 [==============================] - 0s 2ms/step - loss: 32.4525\n",
      "Epoch 128/200\n",
      "22/22 [==============================] - 0s 1ms/step - loss: 31.0545\n",
      "Epoch 129/200\n",
      "22/22 [==============================] - 0s 2ms/step - loss: 29.0006\n",
      "Epoch 130/200\n",
      "22/22 [==============================] - 0s 2ms/step - loss: 28.2454\n",
      "Epoch 131/200\n",
      "22/22 [==============================] - 0s 1ms/step - loss: 27.0247\n",
      "Epoch 132/200\n",
      "22/22 [==============================] - 0s 2ms/step - loss: 26.7449\n",
      "Epoch 133/200\n",
      "22/22 [==============================] - 0s 2ms/step - loss: 25.3913\n",
      "Epoch 134/200\n",
      "22/22 [==============================] - 0s 2ms/step - loss: 26.0928\n",
      "Epoch 135/200\n",
      "22/22 [==============================] - 0s 1ms/step - loss: 24.8750\n",
      "Epoch 136/200\n",
      "22/22 [==============================] - 0s 2ms/step - loss: 25.3271\n",
      "Epoch 137/200\n",
      "22/22 [==============================] - 0s 2ms/step - loss: 24.9370\n",
      "Epoch 138/200\n",
      "22/22 [==============================] - 0s 2ms/step - loss: 24.4810\n",
      "Epoch 139/200\n",
      "22/22 [==============================] - 0s 2ms/step - loss: 24.1506\n",
      "Epoch 140/200\n",
      "22/22 [==============================] - 0s 2ms/step - loss: 23.4442\n",
      "Epoch 141/200\n",
      "22/22 [==============================] - 0s 2ms/step - loss: 23.7695\n",
      "Epoch 142/200\n",
      "22/22 [==============================] - 0s 2ms/step - loss: 23.8311\n",
      "Epoch 143/200\n",
      "22/22 [==============================] - 0s 2ms/step - loss: 24.2828\n",
      "Epoch 144/200\n",
      "22/22 [==============================] - 0s 2ms/step - loss: 23.9017\n",
      "Epoch 145/200\n",
      "22/22 [==============================] - 0s 2ms/step - loss: 23.7917\n",
      "Epoch 146/200\n",
      "22/22 [==============================] - 0s 2ms/step - loss: 24.2313\n",
      "Epoch 147/200\n",
      "22/22 [==============================] - 0s 2ms/step - loss: 23.4360\n",
      "Epoch 148/200\n",
      "22/22 [==============================] - 0s 2ms/step - loss: 24.5266\n",
      "Epoch 149/200\n",
      "22/22 [==============================] - 0s 2ms/step - loss: 23.6472\n",
      "Epoch 150/200\n",
      "22/22 [==============================] - 0s 2ms/step - loss: 23.4583\n",
      "Epoch 151/200\n",
      "22/22 [==============================] - 0s 2ms/step - loss: 23.2669\n",
      "Epoch 152/200\n",
      "22/22 [==============================] - 0s 2ms/step - loss: 23.8513\n",
      "Epoch 153/200\n",
      "22/22 [==============================] - 0s 2ms/step - loss: 23.6718\n",
      "Epoch 154/200\n",
      "22/22 [==============================] - 0s 2ms/step - loss: 23.8105\n",
      "Epoch 155/200\n",
      "22/22 [==============================] - 0s 2ms/step - loss: 23.6133\n",
      "Epoch 156/200\n",
      "22/22 [==============================] - 0s 2ms/step - loss: 23.5517\n",
      "Epoch 157/200\n",
      "22/22 [==============================] - 0s 2ms/step - loss: 24.1301\n",
      "Epoch 158/200\n",
      "22/22 [==============================] - 0s 2ms/step - loss: 23.4555\n",
      "Epoch 159/200\n",
      "22/22 [==============================] - 0s 2ms/step - loss: 23.3970\n",
      "Epoch 160/200\n",
      "22/22 [==============================] - 0s 2ms/step - loss: 24.4826\n",
      "Epoch 161/200\n",
      "22/22 [==============================] - 0s 2ms/step - loss: 24.0887\n",
      "Epoch 162/200\n",
      "22/22 [==============================] - 0s 2ms/step - loss: 23.8349\n",
      "Epoch 163/200\n",
      "22/22 [==============================] - 0s 1ms/step - loss: 23.8495\n",
      "Epoch 164/200\n",
      "22/22 [==============================] - 0s 2ms/step - loss: 23.9813\n",
      "Epoch 165/200\n",
      "22/22 [==============================] - 0s 2ms/step - loss: 23.4645\n",
      "Epoch 166/200\n",
      "22/22 [==============================] - 0s 2ms/step - loss: 24.0680\n",
      "Epoch 167/200\n",
      "22/22 [==============================] - 0s 2ms/step - loss: 23.6017\n",
      "Epoch 168/200\n",
      "22/22 [==============================] - 0s 2ms/step - loss: 23.8571\n",
      "Epoch 169/200\n",
      "22/22 [==============================] - 0s 2ms/step - loss: 23.5888\n",
      "Epoch 170/200\n",
      "22/22 [==============================] - 0s 2ms/step - loss: 23.9319\n",
      "Epoch 171/200\n",
      "22/22 [==============================] - 0s 2ms/step - loss: 23.4707\n",
      "Epoch 172/200\n",
      "22/22 [==============================] - 0s 2ms/step - loss: 23.8764\n",
      "Epoch 173/200\n",
      "22/22 [==============================] - 0s 2ms/step - loss: 23.8690\n",
      "Epoch 174/200\n",
      "22/22 [==============================] - 0s 2ms/step - loss: 23.6013\n",
      "Epoch 175/200\n",
      "22/22 [==============================] - 0s 2ms/step - loss: 23.9800\n",
      "Epoch 176/200\n",
      "22/22 [==============================] - 0s 2ms/step - loss: 23.8135\n",
      "Epoch 177/200\n",
      "22/22 [==============================] - 0s 2ms/step - loss: 23.9994\n",
      "Epoch 178/200\n",
      "22/22 [==============================] - 0s 1ms/step - loss: 23.7716\n",
      "Epoch 179/200\n",
      "22/22 [==============================] - 0s 2ms/step - loss: 23.3841\n",
      "Epoch 180/200\n",
      "22/22 [==============================] - 0s 2ms/step - loss: 23.9643\n",
      "Epoch 181/200\n",
      "22/22 [==============================] - 0s 2ms/step - loss: 23.5301\n",
      "Epoch 182/200\n",
      "22/22 [==============================] - 0s 2ms/step - loss: 23.7491\n",
      "Epoch 183/200\n",
      "22/22 [==============================] - 0s 2ms/step - loss: 23.9102\n",
      "Epoch 184/200\n",
      "22/22 [==============================] - 0s 2ms/step - loss: 23.6488\n",
      "Epoch 185/200\n",
      "22/22 [==============================] - 0s 2ms/step - loss: 24.2307\n",
      "Epoch 186/200\n",
      "22/22 [==============================] - 0s 2ms/step - loss: 23.1024\n",
      "Epoch 187/200\n",
      "22/22 [==============================] - 0s 2ms/step - loss: 24.2588\n",
      "Epoch 188/200\n",
      "22/22 [==============================] - 0s 2ms/step - loss: 24.3220\n",
      "Epoch 189/200\n",
      "22/22 [==============================] - 0s 2ms/step - loss: 24.0735\n",
      "Epoch 190/200\n",
      "22/22 [==============================] - 0s 2ms/step - loss: 23.8980\n",
      "Epoch 191/200\n",
      "22/22 [==============================] - 0s 2ms/step - loss: 23.2769\n",
      "Epoch 192/200\n",
      "22/22 [==============================] - 0s 2ms/step - loss: 23.3765\n",
      "Epoch 193/200\n",
      "22/22 [==============================] - 0s 2ms/step - loss: 23.9298\n",
      "Epoch 194/200\n",
      "22/22 [==============================] - 0s 2ms/step - loss: 23.4776\n",
      "Epoch 195/200\n",
      "22/22 [==============================] - 0s 2ms/step - loss: 24.2970\n",
      "Epoch 196/200\n",
      "22/22 [==============================] - 0s 2ms/step - loss: 23.8722\n",
      "Epoch 197/200\n",
      "22/22 [==============================] - 0s 2ms/step - loss: 23.4661\n",
      "Epoch 198/200\n",
      "22/22 [==============================] - 0s 1ms/step - loss: 23.9345\n",
      "Epoch 199/200\n",
      "22/22 [==============================] - 0s 2ms/step - loss: 24.3306\n",
      "Epoch 200/200\n",
      "22/22 [==============================] - 0s 1ms/step - loss: 24.1889\n"
     ]
    },
    {
     "data": {
      "text/plain": [
       "<keras.callbacks.History at 0x17425c30130>"
      ]
     },
     "execution_count": 22,
     "metadata": {},
     "output_type": "execute_result"
    }
   ],
   "source": [
    "model.fit(X_train,y_train,epochs=200)"
   ]
  },
  {
   "cell_type": "code",
   "execution_count": 23,
   "id": "1d26a04a",
   "metadata": {},
   "outputs": [
    {
     "data": {
      "text/plain": [
       "{'loss': [259551.265625,\n",
       "  259185.390625,\n",
       "  258840.484375,\n",
       "  258460.25,\n",
       "  258039.859375,\n",
       "  257562.015625,\n",
       "  257006.609375,\n",
       "  256357.734375,\n",
       "  255607.171875,\n",
       "  254751.90625,\n",
       "  253757.21875,\n",
       "  252600.890625,\n",
       "  251273.234375,\n",
       "  249761.28125,\n",
       "  248040.359375,\n",
       "  246102.859375,\n",
       "  243944.5,\n",
       "  241530.515625,\n",
       "  238842.859375,\n",
       "  235882.921875,\n",
       "  232611.015625,\n",
       "  229040.203125,\n",
       "  225143.421875,\n",
       "  220914.828125,\n",
       "  216308.5,\n",
       "  211380.546875,\n",
       "  206052.0625,\n",
       "  200355.125,\n",
       "  194295.453125,\n",
       "  187854.953125,\n",
       "  181020.359375,\n",
       "  173820.828125,\n",
       "  166242.609375,\n",
       "  158296.375,\n",
       "  150045.109375,\n",
       "  141477.671875,\n",
       "  132626.203125,\n",
       "  123482.8671875,\n",
       "  114133.6015625,\n",
       "  104648.796875,\n",
       "  95073.7265625,\n",
       "  85502.4609375,\n",
       "  75910.875,\n",
       "  66427.6953125,\n",
       "  57172.44140625,\n",
       "  48171.109375,\n",
       "  39687.453125,\n",
       "  31711.15625,\n",
       "  24434.375,\n",
       "  18021.287109375,\n",
       "  12488.3212890625,\n",
       "  8175.0791015625,\n",
       "  5056.06982421875,\n",
       "  3231.4599609375,\n",
       "  2499.683349609375,\n",
       "  2383.469970703125,\n",
       "  2341.790283203125,\n",
       "  2280.131591796875,\n",
       "  2222.45849609375,\n",
       "  2165.961669921875,\n",
       "  2112.540771484375,\n",
       "  2061.16064453125,\n",
       "  1998.7298583984375,\n",
       "  1945.1312255859375,\n",
       "  1883.9366455078125,\n",
       "  1829.3818359375,\n",
       "  1783.3389892578125,\n",
       "  1723.6314697265625,\n",
       "  1673.087890625,\n",
       "  1616.8287353515625,\n",
       "  1565.6048583984375,\n",
       "  1518.3465576171875,\n",
       "  1470.9649658203125,\n",
       "  1423.118896484375,\n",
       "  1371.1505126953125,\n",
       "  1326.4925537109375,\n",
       "  1285.1956787109375,\n",
       "  1232.7440185546875,\n",
       "  1198.6263427734375,\n",
       "  1150.5836181640625,\n",
       "  1104.1573486328125,\n",
       "  1059.5155029296875,\n",
       "  1009.9738159179688,\n",
       "  963.091796875,\n",
       "  916.938232421875,\n",
       "  874.8369750976562,\n",
       "  832.17529296875,\n",
       "  789.52783203125,\n",
       "  751.39501953125,\n",
       "  715.644775390625,\n",
       "  678.4478759765625,\n",
       "  643.8995361328125,\n",
       "  609.09375,\n",
       "  574.4632568359375,\n",
       "  547.181640625,\n",
       "  515.4830932617188,\n",
       "  486.6300048828125,\n",
       "  454.33282470703125,\n",
       "  427.3900451660156,\n",
       "  394.88348388671875,\n",
       "  368.9777526855469,\n",
       "  340.482666015625,\n",
       "  317.7342529296875,\n",
       "  293.54327392578125,\n",
       "  273.2257080078125,\n",
       "  250.9536590576172,\n",
       "  231.2141571044922,\n",
       "  213.72998046875,\n",
       "  194.72616577148438,\n",
       "  177.70155334472656,\n",
       "  162.1259765625,\n",
       "  145.45156860351562,\n",
       "  131.832763671875,\n",
       "  118.66465759277344,\n",
       "  106.01246643066406,\n",
       "  95.41143035888672,\n",
       "  85.43385314941406,\n",
       "  76.13671112060547,\n",
       "  68.08843994140625,\n",
       "  60.54376220703125,\n",
       "  54.21037292480469,\n",
       "  48.812110900878906,\n",
       "  44.43497848510742,\n",
       "  41.17954635620117,\n",
       "  37.32326889038086,\n",
       "  34.86711120605469,\n",
       "  32.452537536621094,\n",
       "  31.05452537536621,\n",
       "  29.00064468383789,\n",
       "  28.245393753051758,\n",
       "  27.02469253540039,\n",
       "  26.74485206604004,\n",
       "  25.391281127929688,\n",
       "  26.09282112121582,\n",
       "  24.87496566772461,\n",
       "  25.327123641967773,\n",
       "  24.937023162841797,\n",
       "  24.481006622314453,\n",
       "  24.150583267211914,\n",
       "  23.44422149658203,\n",
       "  23.769460678100586,\n",
       "  23.831096649169922,\n",
       "  24.282806396484375,\n",
       "  23.901721954345703,\n",
       "  23.791683197021484,\n",
       "  24.23133087158203,\n",
       "  23.43598175048828,\n",
       "  24.526601791381836,\n",
       "  23.647232055664062,\n",
       "  23.458328247070312,\n",
       "  23.266916275024414,\n",
       "  23.851261138916016,\n",
       "  23.67180824279785,\n",
       "  23.810504913330078,\n",
       "  23.613283157348633,\n",
       "  23.55172348022461,\n",
       "  24.130094528198242,\n",
       "  23.455528259277344,\n",
       "  23.397010803222656,\n",
       "  24.482561111450195,\n",
       "  24.088668823242188,\n",
       "  23.83490753173828,\n",
       "  23.849464416503906,\n",
       "  23.981281280517578,\n",
       "  23.46453094482422,\n",
       "  24.06798553466797,\n",
       "  23.601659774780273,\n",
       "  23.85710906982422,\n",
       "  23.588808059692383,\n",
       "  23.93185043334961,\n",
       "  23.470726013183594,\n",
       "  23.87643051147461,\n",
       "  23.868959426879883,\n",
       "  23.60129737854004,\n",
       "  23.97999382019043,\n",
       "  23.813495635986328,\n",
       "  23.999433517456055,\n",
       "  23.771587371826172,\n",
       "  23.384113311767578,\n",
       "  23.964344024658203,\n",
       "  23.530099868774414,\n",
       "  23.749059677124023,\n",
       "  23.910221099853516,\n",
       "  23.6487979888916,\n",
       "  24.23067283630371,\n",
       "  23.10236167907715,\n",
       "  24.258800506591797,\n",
       "  24.322006225585938,\n",
       "  24.07345199584961,\n",
       "  23.897968292236328,\n",
       "  23.276874542236328,\n",
       "  23.3764705657959,\n",
       "  23.929758071899414,\n",
       "  23.477575302124023,\n",
       "  24.29697608947754,\n",
       "  23.872177124023438,\n",
       "  23.466102600097656,\n",
       "  23.934520721435547,\n",
       "  24.330602645874023,\n",
       "  24.188920974731445]}"
      ]
     },
     "execution_count": 23,
     "metadata": {},
     "output_type": "execute_result"
    }
   ],
   "source": [
    "model.history.history"
   ]
  },
  {
   "cell_type": "code",
   "execution_count": 24,
   "id": "e5a625f8",
   "metadata": {},
   "outputs": [
    {
     "data": {
      "text/plain": [
       "Text(0.5, 1.0, 'Training loss per epoch')"
      ]
     },
     "execution_count": 24,
     "metadata": {},
     "output_type": "execute_result"
    },
    {
     "data": {
      "image/png": "[encoded data removed]",
      "text/plain": [
       "<Figure size 640x480 with 1 Axes>"
      ]
     },
     "metadata": {},
     "output_type": "display_data"
    }
   ],
   "source": [
    "loss = model.history.history['loss']\n",
    "sns.lineplot(x=range(len(loss)),y=loss)\n",
    "plt.title('Training loss per epoch')"
   ]
  },
  {
   "cell_type": "markdown",
   "id": "8e075f8a",
   "metadata": {},
   "source": [
    "# Evaluation on training and testing data"
   ]
  },
  {
   "cell_type": "code",
   "execution_count": 25,
   "id": "158e8560",
   "metadata": {},
   "outputs": [
    {
     "data": {
      "text/plain": [
       "['loss']"
      ]
     },
     "execution_count": 25,
     "metadata": {},
     "output_type": "execute_result"
    }
   ],
   "source": [
    "model.metrics_names"
   ]
  },
  {
   "cell_type": "code",
   "execution_count": 26,
   "id": "32c45d70",
   "metadata": {},
   "outputs": [],
   "source": [
    "training_score = model.evaluate(X_train,y_train,verbose=0)"
   ]
  },
  {
   "cell_type": "code",
   "execution_count": 27,
   "id": "aec2c897",
   "metadata": {},
   "outputs": [],
   "source": [
    "test_score = model.evaluate(X_test,y_test,verbose=0)"
   ]
  },
  {
   "cell_type": "code",
   "execution_count": 28,
   "id": "f22bafa8",
   "metadata": {},
   "outputs": [
    {
     "name": "stdout",
     "output_type": "stream",
     "text": [
      "22.855880737304688\n",
      "27.155122756958008\n"
     ]
    }
   ],
   "source": [
    "print(training_score)\n",
    "print(test_score)"
   ]
  },
  {
   "cell_type": "markdown",
   "id": "31b4411c",
   "metadata": {},
   "source": [
    "# Predictions Evaluation"
   ]
  },
  {
   "cell_type": "code",
   "execution_count": 29,
   "id": "1a6f87c2",
   "metadata": {},
   "outputs": [],
   "source": [
    "test_prediction = model.predict(X_test)"
   ]
  },
  {
   "cell_type": "code",
   "execution_count": 30,
   "id": "17a7f669",
   "metadata": {},
   "outputs": [
    {
     "data": {
      "text/plain": [
       "array([[654.7899 ],\n",
       "       [512.49994],\n",
       "       [518.78955],\n",
       "       [485.43655],\n",
       "       [541.9419 ],\n",
       "       [556.1039 ],\n",
       "       [602.5055 ],\n",
       "       [630.40283],\n",
       "       [600.90454],\n",
       "       [556.20013],\n",
       "       [416.78372],\n",
       "       [474.22372],\n",
       "       [447.7115 ],\n",
       "       [482.94217],\n",
       "       [490.4744 ],\n",
       "       [565.60657],\n",
       "       [365.11795],\n",
       "       [502.00748],\n",
       "       [578.6138 ],\n",
       "       [530.48096],\n",
       "       [472.98917],\n",
       "       [344.50693],\n",
       "       [484.6641 ],\n",
       "       [529.8457 ],\n",
       "       [586.1134 ],\n",
       "       [546.03424],\n",
       "       [365.42734],\n",
       "       [552.7375 ],\n",
       "       [645.4004 ],\n",
       "       [508.44418],\n",
       "       [564.7929 ],\n",
       "       [486.07074],\n",
       "       [556.2394 ],\n",
       "       [701.1572 ],\n",
       "       [381.08597],\n",
       "       [433.93338],\n",
       "       [461.54688],\n",
       "       [431.47437],\n",
       "       [381.8785 ],\n",
       "       [558.91986],\n",
       "       [328.75223],\n",
       "       [616.5817 ],\n",
       "       [615.159  ],\n",
       "       [525.3168 ],\n",
       "       [576.5276 ],\n",
       "       [485.14984],\n",
       "       [455.86966],\n",
       "       [410.6414 ],\n",
       "       [519.12604],\n",
       "       [628.30994],\n",
       "       [480.57285],\n",
       "       [515.1405 ],\n",
       "       [629.37024],\n",
       "       [428.1754 ],\n",
       "       [417.03995],\n",
       "       [573.7234 ],\n",
       "       [363.61426],\n",
       "       [493.2382 ],\n",
       "       [514.7648 ],\n",
       "       [655.3816 ],\n",
       "       [522.7409 ],\n",
       "       [296.43976],\n",
       "       [324.81192],\n",
       "       [415.62198],\n",
       "       [551.52826],\n",
       "       [563.7205 ],\n",
       "       [486.7379 ],\n",
       "       [493.81116],\n",
       "       [640.2107 ],\n",
       "       [399.8421 ],\n",
       "       [438.32053],\n",
       "       [510.16727],\n",
       "       [518.60236],\n",
       "       [646.64453],\n",
       "       [531.2532 ],\n",
       "       [526.02014],\n",
       "       [489.1388 ],\n",
       "       [400.3383 ],\n",
       "       [470.5018 ],\n",
       "       [437.84195],\n",
       "       [502.92133],\n",
       "       [406.0787 ],\n",
       "       [582.5032 ],\n",
       "       [457.44308],\n",
       "       [528.79395],\n",
       "       [627.8595 ],\n",
       "       [399.93805],\n",
       "       [435.26328],\n",
       "       [589.6195 ],\n",
       "       [357.06635],\n",
       "       [399.29456],\n",
       "       [566.1564 ],\n",
       "       [502.33804],\n",
       "       [503.24908],\n",
       "       [471.24045],\n",
       "       [479.66934],\n",
       "       [528.8164 ],\n",
       "       [598.3229 ],\n",
       "       [450.01846],\n",
       "       [503.68106],\n",
       "       [660.2473 ],\n",
       "       [325.11227],\n",
       "       [532.189  ],\n",
       "       [667.2187 ],\n",
       "       [507.5044 ],\n",
       "       [550.1536 ],\n",
       "       [411.5793 ],\n",
       "       [641.9479 ],\n",
       "       [239.45726],\n",
       "       [607.51843],\n",
       "       [404.7587 ],\n",
       "       [564.26025],\n",
       "       [533.1541 ],\n",
       "       [512.729  ],\n",
       "       [403.272  ],\n",
       "       [770.90424],\n",
       "       [441.259  ],\n",
       "       [368.74222],\n",
       "       [476.52402],\n",
       "       [512.62134],\n",
       "       [273.47177],\n",
       "       [503.25592],\n",
       "       [368.3488 ],\n",
       "       [556.94635],\n",
       "       [534.468  ],\n",
       "       [501.32016],\n",
       "       [492.71088],\n",
       "       [321.65128],\n",
       "       [492.83615],\n",
       "       [635.12976],\n",
       "       [361.26746],\n",
       "       [577.1946 ],\n",
       "       [464.0229 ],\n",
       "       [514.13806],\n",
       "       [367.87436],\n",
       "       [602.3609 ],\n",
       "       [491.07532],\n",
       "       [546.41223],\n",
       "       [566.407  ],\n",
       "       [321.4921 ],\n",
       "       [518.98486],\n",
       "       [519.4335 ],\n",
       "       [481.44028],\n",
       "       [497.72464],\n",
       "       [717.5062 ],\n",
       "       [327.40652],\n",
       "       [640.9897 ],\n",
       "       [436.2236 ],\n",
       "       [322.05588],\n",
       "       [549.81213],\n",
       "       [502.44925],\n",
       "       [438.20306],\n",
       "       [550.4916 ],\n",
       "       [538.29297],\n",
       "       [645.9747 ],\n",
       "       [526.78564],\n",
       "       [581.92554],\n",
       "       [419.5631 ],\n",
       "       [562.87805],\n",
       "       [566.60376],\n",
       "       [486.45746],\n",
       "       [250.87291],\n",
       "       [463.59024],\n",
       "       [455.63257],\n",
       "       [438.44754],\n",
       "       [461.2034 ],\n",
       "       [356.6717 ],\n",
       "       [591.60645],\n",
       "       [608.52826],\n",
       "       [502.086  ],\n",
       "       [549.62415],\n",
       "       [604.6384 ],\n",
       "       [475.7519 ],\n",
       "       [420.25168],\n",
       "       [549.9501 ],\n",
       "       [365.48428],\n",
       "       [583.5052 ],\n",
       "       [519.2449 ],\n",
       "       [340.179  ],\n",
       "       [440.37857],\n",
       "       [529.0066 ],\n",
       "       [372.7897 ],\n",
       "       [540.23755],\n",
       "       [450.04337],\n",
       "       [641.56836],\n",
       "       [518.1387 ],\n",
       "       [379.49576],\n",
       "       [395.74655],\n",
       "       [511.6668 ],\n",
       "       [510.29962],\n",
       "       [594.1061 ],\n",
       "       [304.5571 ],\n",
       "       [615.9431 ],\n",
       "       [486.925  ],\n",
       "       [640.854  ],\n",
       "       [492.0886 ],\n",
       "       [388.10477],\n",
       "       [528.848  ],\n",
       "       [348.94028],\n",
       "       [510.49905],\n",
       "       [426.61423],\n",
       "       [439.68683],\n",
       "       [500.61887],\n",
       "       [576.2726 ],\n",
       "       [484.2552 ],\n",
       "       [506.8617 ],\n",
       "       [558.663  ],\n",
       "       [638.1188 ],\n",
       "       [310.678  ],\n",
       "       [465.06354],\n",
       "       [637.0735 ],\n",
       "       [427.15366],\n",
       "       [436.8796 ],\n",
       "       [708.855  ],\n",
       "       [463.8656 ],\n",
       "       [523.656  ],\n",
       "       [369.13666],\n",
       "       [469.41214],\n",
       "       [420.41132],\n",
       "       [572.2842 ],\n",
       "       [472.71027],\n",
       "       [595.39453],\n",
       "       [320.29645],\n",
       "       [677.68494],\n",
       "       [408.05948],\n",
       "       [577.1919 ],\n",
       "       [572.4024 ],\n",
       "       [460.1735 ],\n",
       "       [548.1765 ],\n",
       "       [625.3539 ],\n",
       "       [446.00293],\n",
       "       [439.25525],\n",
       "       [769.3024 ],\n",
       "       [442.70923],\n",
       "       [512.2915 ],\n",
       "       [347.1525 ],\n",
       "       [516.52246],\n",
       "       [455.287  ],\n",
       "       [444.84897],\n",
       "       [398.1807 ],\n",
       "       [556.6228 ],\n",
       "       [521.0742 ],\n",
       "       [610.5674 ],\n",
       "       [450.03717],\n",
       "       [473.7997 ],\n",
       "       [548.5709 ],\n",
       "       [371.30432],\n",
       "       [616.7953 ],\n",
       "       [351.98795],\n",
       "       [612.8259 ],\n",
       "       [502.1387 ],\n",
       "       [537.90625],\n",
       "       [518.7899 ],\n",
       "       [540.7516 ],\n",
       "       [508.13852],\n",
       "       [356.28265],\n",
       "       [479.9987 ],\n",
       "       [459.18073],\n",
       "       [586.54504],\n",
       "       [541.99243],\n",
       "       [448.04932],\n",
       "       [371.71024],\n",
       "       [378.21695],\n",
       "       [432.19864],\n",
       "       [258.3252 ],\n",
       "       [478.7443 ],\n",
       "       [578.08154],\n",
       "       [405.2528 ],\n",
       "       [505.92624],\n",
       "       [542.16547],\n",
       "       [414.67154],\n",
       "       [537.9286 ],\n",
       "       [643.0061 ],\n",
       "       [604.99255],\n",
       "       [470.09238],\n",
       "       [353.16974],\n",
       "       [499.31534],\n",
       "       [571.8098 ],\n",
       "       [442.58798],\n",
       "       [451.13235],\n",
       "       [499.62613],\n",
       "       [306.93777],\n",
       "       [463.22702],\n",
       "       [281.33957],\n",
       "       [651.39014],\n",
       "       [416.33865],\n",
       "       [364.97128],\n",
       "       [420.49142],\n",
       "       [390.13055],\n",
       "       [404.05292],\n",
       "       [422.70615],\n",
       "       [491.76212],\n",
       "       [563.7744 ],\n",
       "       [661.9797 ],\n",
       "       [444.18518],\n",
       "       [369.82007],\n",
       "       [638.0852 ],\n",
       "       [395.37018],\n",
       "       [584.558  ],\n",
       "       [511.622  ]], dtype=float32)"
      ]
     },
     "execution_count": 30,
     "metadata": {},
     "output_type": "execute_result"
    }
   ],
   "source": [
    "test_prediction"
   ]
  },
  {
   "cell_type": "code",
   "execution_count": 31,
   "id": "674dc96b",
   "metadata": {},
   "outputs": [],
   "source": [
    "pred_df = pd.DataFrame(y_test,columns=['Actual Y'])"
   ]
  },
  {
   "cell_type": "code",
   "execution_count": 32,
   "id": "0e0d592a",
   "metadata": {},
   "outputs": [
    {
     "data": {
      "text/html": [
       "<div>\n",
       "<style scoped>\n",
       "    .dataframe tbody tr th:only-of-type {\n",
       "        vertical-align: middle;\n",
       "    }\n",
       "\n",
       "    .dataframe tbody tr th {\n",
       "        vertical-align: top;\n",
       "    }\n",
       "\n",
       "    .dataframe thead th {\n",
       "        text-align: right;\n",
       "    }\n",
       "</style>\n",
       "<table border=\"1\" class=\"dataframe\">\n",
       "  <thead>\n",
       "    <tr style=\"text-align: right;\">\n",
       "      <th></th>\n",
       "      <th>Actual Y</th>\n",
       "    </tr>\n",
       "  </thead>\n",
       "  <tbody>\n",
       "    <tr>\n",
       "      <th>0</th>\n",
       "      <td>655.391403</td>\n",
       "    </tr>\n",
       "    <tr>\n",
       "      <th>1</th>\n",
       "      <td>511.366708</td>\n",
       "    </tr>\n",
       "    <tr>\n",
       "      <th>2</th>\n",
       "      <td>515.778446</td>\n",
       "    </tr>\n",
       "    <tr>\n",
       "      <th>3</th>\n",
       "      <td>478.358238</td>\n",
       "    </tr>\n",
       "    <tr>\n",
       "      <th>4</th>\n",
       "      <td>543.830279</td>\n",
       "    </tr>\n",
       "    <tr>\n",
       "      <th>...</th>\n",
       "      <td>...</td>\n",
       "    </tr>\n",
       "    <tr>\n",
       "      <th>295</th>\n",
       "      <td>372.777436</td>\n",
       "    </tr>\n",
       "    <tr>\n",
       "      <th>296</th>\n",
       "      <td>639.818362</td>\n",
       "    </tr>\n",
       "    <tr>\n",
       "      <th>297</th>\n",
       "      <td>403.062564</td>\n",
       "    </tr>\n",
       "    <tr>\n",
       "      <th>298</th>\n",
       "      <td>579.428431</td>\n",
       "    </tr>\n",
       "    <tr>\n",
       "      <th>299</th>\n",
       "      <td>510.878579</td>\n",
       "    </tr>\n",
       "  </tbody>\n",
       "</table>\n",
       "<p>300 rows × 1 columns</p>\n",
       "</div>"
      ],
      "text/plain": [
       "       Actual Y\n",
       "0    655.391403\n",
       "1    511.366708\n",
       "2    515.778446\n",
       "3    478.358238\n",
       "4    543.830279\n",
       "..          ...\n",
       "295  372.777436\n",
       "296  639.818362\n",
       "297  403.062564\n",
       "298  579.428431\n",
       "299  510.878579\n",
       "\n",
       "[300 rows x 1 columns]"
      ]
     },
     "execution_count": 32,
     "metadata": {},
     "output_type": "execute_result"
    }
   ],
   "source": [
    "pred_df"
   ]
  },
  {
   "cell_type": "code",
   "execution_count": 33,
   "id": "9ddede3d",
   "metadata": {},
   "outputs": [],
   "source": [
    "test_predictions = pd.Series(test_prediction.reshape(300,))"
   ]
  },
  {
   "cell_type": "code",
   "execution_count": 34,
   "id": "fbcc04fa",
   "metadata": {},
   "outputs": [
    {
     "data": {
      "text/plain": [
       "0      654.789917\n",
       "1      512.499939\n",
       "2      518.789551\n",
       "3      485.436554\n",
       "4      541.941895\n",
       "          ...    \n",
       "295    369.820068\n",
       "296    638.085205\n",
       "297    395.370178\n",
       "298    584.557983\n",
       "299    511.622009\n",
       "Length: 300, dtype: float32"
      ]
     },
     "execution_count": 34,
     "metadata": {},
     "output_type": "execute_result"
    }
   ],
   "source": [
    "test_predictions"
   ]
  },
  {
   "cell_type": "code",
   "execution_count": 35,
   "id": "324e1704",
   "metadata": {},
   "outputs": [],
   "source": [
    "pred_df = pd.concat([pred_df,test_predictions],axis=1)"
   ]
  },
  {
   "cell_type": "code",
   "execution_count": 36,
   "id": "2a93f7f6",
   "metadata": {},
   "outputs": [],
   "source": [
    "pred_df.columns = ['Actual Y','Predicted Y']"
   ]
  },
  {
   "cell_type": "code",
   "execution_count": 37,
   "id": "32c175cc",
   "metadata": {},
   "outputs": [
    {
     "data": {
      "text/html": [
       "<div>\n",
       "<style scoped>\n",
       "    .dataframe tbody tr th:only-of-type {\n",
       "        vertical-align: middle;\n",
       "    }\n",
       "\n",
       "    .dataframe tbody tr th {\n",
       "        vertical-align: top;\n",
       "    }\n",
       "\n",
       "    .dataframe thead th {\n",
       "        text-align: right;\n",
       "    }\n",
       "</style>\n",
       "<table border=\"1\" class=\"dataframe\">\n",
       "  <thead>\n",
       "    <tr style=\"text-align: right;\">\n",
       "      <th></th>\n",
       "      <th>Actual Y</th>\n",
       "      <th>Predicted Y</th>\n",
       "    </tr>\n",
       "  </thead>\n",
       "  <tbody>\n",
       "    <tr>\n",
       "      <th>0</th>\n",
       "      <td>655.391403</td>\n",
       "      <td>654.789917</td>\n",
       "    </tr>\n",
       "    <tr>\n",
       "      <th>1</th>\n",
       "      <td>511.366708</td>\n",
       "      <td>512.499939</td>\n",
       "    </tr>\n",
       "    <tr>\n",
       "      <th>2</th>\n",
       "      <td>515.778446</td>\n",
       "      <td>518.789551</td>\n",
       "    </tr>\n",
       "    <tr>\n",
       "      <th>3</th>\n",
       "      <td>478.358238</td>\n",
       "      <td>485.436554</td>\n",
       "    </tr>\n",
       "    <tr>\n",
       "      <th>4</th>\n",
       "      <td>543.830279</td>\n",
       "      <td>541.941895</td>\n",
       "    </tr>\n",
       "    <tr>\n",
       "      <th>...</th>\n",
       "      <td>...</td>\n",
       "      <td>...</td>\n",
       "    </tr>\n",
       "    <tr>\n",
       "      <th>295</th>\n",
       "      <td>372.777436</td>\n",
       "      <td>369.820068</td>\n",
       "    </tr>\n",
       "    <tr>\n",
       "      <th>296</th>\n",
       "      <td>639.818362</td>\n",
       "      <td>638.085205</td>\n",
       "    </tr>\n",
       "    <tr>\n",
       "      <th>297</th>\n",
       "      <td>403.062564</td>\n",
       "      <td>395.370178</td>\n",
       "    </tr>\n",
       "    <tr>\n",
       "      <th>298</th>\n",
       "      <td>579.428431</td>\n",
       "      <td>584.557983</td>\n",
       "    </tr>\n",
       "    <tr>\n",
       "      <th>299</th>\n",
       "      <td>510.878579</td>\n",
       "      <td>511.622009</td>\n",
       "    </tr>\n",
       "  </tbody>\n",
       "</table>\n",
       "<p>300 rows × 2 columns</p>\n",
       "</div>"
      ],
      "text/plain": [
       "       Actual Y  Predicted Y\n",
       "0    655.391403   654.789917\n",
       "1    511.366708   512.499939\n",
       "2    515.778446   518.789551\n",
       "3    478.358238   485.436554\n",
       "4    543.830279   541.941895\n",
       "..          ...          ...\n",
       "295  372.777436   369.820068\n",
       "296  639.818362   638.085205\n",
       "297  403.062564   395.370178\n",
       "298  579.428431   584.557983\n",
       "299  510.878579   511.622009\n",
       "\n",
       "[300 rows x 2 columns]"
      ]
     },
     "execution_count": 37,
     "metadata": {},
     "output_type": "execute_result"
    }
   ],
   "source": [
    "pred_df"
   ]
  },
  {
   "cell_type": "code",
   "execution_count": 38,
   "id": "84658683",
   "metadata": {},
   "outputs": [
    {
     "data": {
      "text/plain": [
       "<Axes: xlabel='Actual Y', ylabel='Predicted Y'>"
      ]
     },
     "execution_count": 38,
     "metadata": {},
     "output_type": "execute_result"
    },
    {
     "data": {
      "image/png": "[encoded data removed]",
      "text/plain": [
       "<Figure size 640x480 with 1 Axes>"
      ]
     },
     "metadata": {},
     "output_type": "display_data"
    }
   ],
   "source": [
    "sns.scatterplot(x='Actual Y',y='Predicted Y',data=pred_df)"
   ]
  },
  {
   "cell_type": "code",
   "execution_count": 39,
   "id": "df3d368d",
   "metadata": {},
   "outputs": [],
   "source": [
    "pred_df['Error'] = pred_df['Actual Y'] - pred_df['Predicted Y']"
   ]
  },
  {
   "cell_type": "code",
   "execution_count": 40,
   "id": "a0042cc1",
   "metadata": {},
   "outputs": [
    {
     "data": {
      "text/plain": [
       "<Axes: ylabel='Density'>"
      ]
     },
     "execution_count": 40,
     "metadata": {},
     "output_type": "execute_result"
    },
    {
     "data": {
      "image/png": "[encoded data removed]",
      "text/plain": [
       "<Figure size 640x480 with 1 Axes>"
      ]
     },
     "metadata": {},
     "output_type": "display_data"
    }
   ],
   "source": [
    "sns.distplot(x=pred_df['Error'],bins=30)"
   ]
  },
  {
   "cell_type": "code",
   "execution_count": 41,
   "id": "50d8e76f",
   "metadata": {},
   "outputs": [],
   "source": [
    "from sklearn.metrics import mean_absolute_error,mean_squared_error"
   ]
  },
  {
   "cell_type": "code",
   "execution_count": 42,
   "id": "0fd10de7",
   "metadata": {},
   "outputs": [
    {
     "data": {
      "text/plain": [
       "4.1562301910422725"
      ]
     },
     "execution_count": 42,
     "metadata": {},
     "output_type": "execute_result"
    }
   ],
   "source": [
    "mean_absolute_error(pred_df['Actual Y'],pred_df['Predicted Y'])"
   ]
  },
  {
   "cell_type": "code",
   "execution_count": 43,
   "id": "15163698",
   "metadata": {},
   "outputs": [
    {
     "data": {
      "text/plain": [
       "27.155122445014868"
      ]
     },
     "execution_count": 43,
     "metadata": {},
     "output_type": "execute_result"
    }
   ],
   "source": [
    "mean_squared_error(pred_df['Actual Y'],pred_df['Predicted Y'])"
   ]
  },
  {
   "cell_type": "code",
   "execution_count": 44,
   "id": "fdce9fae",
   "metadata": {},
   "outputs": [
    {
     "data": {
      "text/plain": [
       "27.155122756958008"
      ]
     },
     "execution_count": 44,
     "metadata": {},
     "output_type": "execute_result"
    }
   ],
   "source": [
    "test_score"
   ]
  },
  {
   "cell_type": "markdown",
   "id": "db4b6af2",
   "metadata": {},
   "source": [
    "RMSE"
   ]
  },
  {
   "cell_type": "code",
   "execution_count": 45,
   "id": "436688a6",
   "metadata": {},
   "outputs": [
    {
     "data": {
      "text/plain": [
       "5.2110577387856685"
      ]
     },
     "execution_count": 45,
     "metadata": {},
     "output_type": "execute_result"
    }
   ],
   "source": [
    "test_score**0.5"
   ]
  },
  {
   "cell_type": "markdown",
   "id": "56b81ee9",
   "metadata": {},
   "source": [
    "# Predicting New Data"
   ]
  },
  {
   "cell_type": "code",
   "execution_count": 46,
   "id": "9bbe8a4d",
   "metadata": {},
   "outputs": [],
   "source": [
    "new_data = [[996,1002]]"
   ]
  },
  {
   "cell_type": "code",
   "execution_count": 47,
   "id": "b97b1b5f",
   "metadata": {},
   "outputs": [
    {
     "data": {
      "text/plain": [
       "array([[-0.188637  ,  0.88249903]])"
      ]
     },
     "execution_count": 47,
     "metadata": {},
     "output_type": "execute_result"
    }
   ],
   "source": [
    "scaler.transform(new_data)"
   ]
  },
  {
   "cell_type": "code",
   "execution_count": 48,
   "id": "e001dde5",
   "metadata": {},
   "outputs": [],
   "source": [
    "new_gem = scaler.transform(new_data)"
   ]
  },
  {
   "cell_type": "code",
   "execution_count": 49,
   "id": "43e37923",
   "metadata": {},
   "outputs": [
    {
     "data": {
      "text/plain": [
       "array([[516.4958]], dtype=float32)"
      ]
     },
     "execution_count": 49,
     "metadata": {},
     "output_type": "execute_result"
    }
   ],
   "source": [
    "model.predict(new_gem)"
   ]
  },
  {
   "cell_type": "markdown",
   "id": "4b5e754a",
   "metadata": {},
   "source": [
    "# Saving and Loading Model"
   ]
  },
  {
   "cell_type": "code",
   "execution_count": 50,
   "id": "06acc867",
   "metadata": {},
   "outputs": [],
   "source": [
    "from tensorflow.keras.models import load_model"
   ]
  },
  {
   "cell_type": "code",
   "execution_count": 51,
   "id": "04803091",
   "metadata": {},
   "outputs": [],
   "source": [
    "model.save('my_model.h5')"
   ]
  },
  {
   "cell_type": "code",
   "execution_count": 52,
   "id": "015348c2",
   "metadata": {},
   "outputs": [],
   "source": [
    "later_model = load_model('my_model.h5')"
   ]
  },
  {
   "cell_type": "code",
   "execution_count": 53,
   "id": "2de3282b",
   "metadata": {},
   "outputs": [
    {
     "data": {
      "text/plain": [
       "array([[516.4958]], dtype=float32)"
      ]
     },
     "execution_count": 53,
     "metadata": {},
     "output_type": "execute_result"
    }
   ],
   "source": [
    "later_model.predict(new_gem)"
   ]
  },
  {
   "cell_type": "code",
   "execution_count": null,
   "id": "3e880740",
   "metadata": {},
   "outputs": [],
   "source": []
  }
 ],
 "metadata": {
  "kernelspec": {
   "display_name": "Python 3 (ipykernel)",
   "language": "python",
   "name": "python3"
  },
  "language_info": {
   "codemirror_mode": {
    "name": "ipython",
    "version": 3
   },
   "file_extension": ".py",
   "mimetype": "text/x-python",
   "name": "python",
   "nbconvert_exporter": "python",
   "pygments_lexer": "ipython3",
   "version": "3.9.17"
  }
 },
 "nbformat": 4,
 "nbformat_minor": 5
}
